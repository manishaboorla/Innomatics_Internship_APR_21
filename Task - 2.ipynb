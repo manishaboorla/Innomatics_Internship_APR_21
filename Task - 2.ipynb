{
 "cells": [
  {
   "cell_type": "code",
   "execution_count": 7,
   "metadata": {},
   "outputs": [
    {
     "name": "stdout",
     "output_type": "stream",
     "text": [
      "2\n",
      "3\n",
      "4\n",
      "5\n",
      "[[0, 0, 0], [0, 0, 1], [0, 0, 2], [0, 0, 3], [0, 0, 4], [0, 1, 0], [0, 1, 1], [0, 1, 2], [0, 1, 3], [0, 2, 0], [0, 2, 1], [0, 2, 2], [0, 2, 4], [0, 3, 0], [0, 3, 1], [0, 3, 3], [0, 3, 4], [1, 0, 0], [1, 0, 1], [1, 0, 2], [1, 0, 3], [1, 1, 0], [1, 1, 1], [1, 1, 2], [1, 1, 4], [1, 2, 0], [1, 2, 1], [1, 2, 3], [1, 2, 4], [1, 3, 0], [1, 3, 2], [1, 3, 3], [1, 3, 4], [2, 0, 0], [2, 0, 1], [2, 0, 2], [2, 0, 4], [2, 1, 0], [2, 1, 1], [2, 1, 3], [2, 1, 4], [2, 2, 0], [2, 2, 2], [2, 2, 3], [2, 2, 4], [2, 3, 1], [2, 3, 2], [2, 3, 3], [2, 3, 4]]\n"
     ]
    }
   ],
   "source": [
    "# Question1\n",
    "#import itertools\n",
    "x=int(input())\n",
    "y=int(input())\n",
    "z=int(input())\n",
    "n=int(input())\n",
    "print([[i,j,k]for i in range(x+1)\n",
    "            for j in range(y+1)\n",
    "            for k in range (z+1)\n",
    "            if sum([i,j,k])!=n])"
   ]
  },
  {
   "cell_type": "code",
   "execution_count": 31,
   "metadata": {},
   "outputs": [
    {
     "name": "stdout",
     "output_type": "stream",
     "text": [
      "4\n",
      "[1, 3, 2]\n",
      "[2, 3, 5]\n",
      "[5, 3]\n"
     ]
    }
   ],
   "source": [
    "# Question5\n",
    "n=int(input())\n",
    "list=[]\n",
    "list.append(1)\n",
    "list.append(3)\n",
    "list.append(2)\n",
    "print(list)\n",
    "list.remove(list[0])\n",
    "list.append(5)\n",
    "list.sort()\n",
    "print(list)\n",
    "list.pop(0)\n",
    "list.reverse()\n",
    "print(list)"
   ]
  },
  {
   "cell_type": "code",
   "execution_count": 1,
   "metadata": {},
   "outputs": [
    {
     "name": "stdout",
     "output_type": "stream",
     "text": [
      "4\n",
      "15\n",
      "2863395271153101925\n"
     ]
    }
   ],
   "source": [
    "# Question6\n",
    "n=int(input())\n",
    "t = tuple(map(int, input().split()))\n",
    "print(hash(t))\n"
   ]
  },
  {
   "cell_type": "code",
   "execution_count": null,
   "metadata": {},
   "outputs": [],
   "source": [
    "# Runnerup score\n",
    "n=int(input())\n",
    "arr=map(int,input().split())\n",
    "mx=max(list(arr))\n",
    "res=[i for i in arr if i!=mx]\n",
    "print(max(res))"
   ]
  },
  {
   "cell_type": "code",
   "execution_count": 7,
   "metadata": {},
   "outputs": [
    {
     "name": "stdout",
     "output_type": "stream",
     "text": [
      "4\n",
      "vinith\n",
      "33.41\n",
      "manisha\n",
      "56\n",
      "srija\n",
      "33.4\n",
      "swapna\n",
      "58\n",
      "vinith\n"
     ]
    }
   ],
   "source": [
    "# Nested lists\n",
    "list = []\n",
    "second_lowest_names = []\n",
    "scores = set()\n",
    "\n",
    "for _ in range(int(input())):\n",
    "    name = input()\n",
    "    score = float(input())\n",
    "    list.append([name, score])\n",
    "    scores.add(score)\n",
    "        \n",
    "second_lowest = sorted(scores)[1]\n",
    "\n",
    "for name, score in list:\n",
    "    if score == second_lowest:\n",
    "        second_lowest_names.append(name)\n",
    "\n",
    "for name in sorted(second_lowest_names):\n",
    "    print(name, end='\\n')\n"
   ]
  },
  {
   "cell_type": "code",
   "execution_count": 5,
   "metadata": {},
   "outputs": [
    {
     "name": "stdout",
     "output_type": "stream",
     "text": [
      "3\n",
      "john 45 67 78\n",
      "Erick 54 76 87\n",
      "holmes 47 89 45\n",
      "holmes\n",
      "60.33\n"
     ]
    }
   ],
   "source": [
    "# Finding Percentage\n",
    "n = int(input())\n",
    "student_marks = {}\n",
    "for _ in range(n):\n",
    "    name, *line = input().split()\n",
    "    scores = list(map(float, line))\n",
    "    student_marks[name] = scores\n",
    "query_name = input()\n",
    "print('%.2f' % (float(sum(student_marks[query_name]))/3))"
   ]
  },
  {
   "cell_type": "code",
   "execution_count": 5,
   "metadata": {},
   "outputs": [
    {
     "name": "stdout",
     "output_type": "stream",
     "text": [
      "3 2\n",
      "1 5 3\n",
      "1 3\n",
      "5 7\n",
      "1\n"
     ]
    }
   ],
   "source": [
    "# No idea\n",
    "_=input().split(' ')\n",
    "n_list=list(map(int,input().split(' ')))\n",
    "x_list=list(map(int,input().split(' ')))\n",
    "y_list=list(map(int,input().split(' ')))\n",
    "h=0\n",
    "for i in n_list:\n",
    "    if(i in x_list):\n",
    "        h+=1\n",
    "    if(i in y_list):\n",
    "        h-=1\n",
    "print(h)\n"
   ]
  },
  {
   "cell_type": "code",
   "execution_count": 15,
   "metadata": {},
   "outputs": [
    {
     "name": "stdout",
     "output_type": "stream",
     "text": [
      "7\n",
      "123 125 145 165 123 176 198\n",
      "155.33333333333334\n"
     ]
    }
   ],
   "source": [
    "# Introduction to sets\n",
    "def average(array):\n",
    "     s=set(array)\n",
    "     return sum(s)/len(s)\n",
    "if __name__ == '__main__':\n",
    "    n = int(input())\n",
    "    arr = map(int,input().split())\n",
    "    result = average(arr)\n",
    "    print(result)"
   ]
  },
  {
   "cell_type": "code",
   "execution_count": 21,
   "metadata": {},
   "outputs": [
    {
     "name": "stdout",
     "output_type": "stream",
     "text": [
      "3\n",
      "2 3 6 9\n",
      "3\n",
      "4 3 11 12\n",
      "2\n",
      "4\n",
      "6\n",
      "9\n",
      "11\n",
      "12\n"
     ]
    }
   ],
   "source": [
    "# Symmetric difference\n",
    "n=int(input())\n",
    "x=list(map(int,input().split(' ')))\n",
    "m=int(input())\n",
    "y=list(map(int,input().split(' ')))\n",
    "ans=(set(x).difference(set(y))).union(set(y).difference(set(x)))\n",
    "for i in sorted(list(ans)):\n",
    "    print(i)"
   ]
  },
  {
   "cell_type": "code",
   "execution_count": 24,
   "metadata": {},
   "outputs": [
    {
     "name": "stdout",
     "output_type": "stream",
     "text": [
      "7\n",
      "uk\n",
      "usa\n",
      "france\n",
      "japan\n",
      "england\n",
      "uk\n",
      "usa\n",
      "5\n"
     ]
    }
   ],
   "source": [
    "# Set.add()\n",
    "n=int(input())\n",
    "s=set()\n",
    "for i in range(n):\n",
    "    s.add(input())\n",
    "print (len(s))\n"
   ]
  },
  {
   "cell_type": "code",
   "execution_count": 4,
   "metadata": {},
   "outputs": [
    {
     "name": "stdout",
     "output_type": "stream",
     "text": [
      "9\n",
      "1 2 3 4 5 6 7 8 9\n",
      "9\n",
      "10 1 2 3 11 21 55 6 8\n",
      "13\n"
     ]
    }
   ],
   "source": [
    "# Set.union() Operation\n",
    "n = int(input())\n",
    "n1 = set(input().split())\n",
    "b = int(input())\n",
    "b1 = set(input().split())\n",
    "print(len(n1.union(b1)))\n"
   ]
  },
  {
   "cell_type": "code",
   "execution_count": 2,
   "metadata": {},
   "outputs": [
    {
     "name": "stdout",
     "output_type": "stream",
     "text": [
      "9\n",
      "1 2 3 4 5 6 7 8 9\n",
      "9\n",
      "10 1 2 3 11 21 55 6 8\n",
      "5\n"
     ]
    }
   ],
   "source": [
    "# Set.intersection() Operation\n",
    "n = int(input())\n",
    "n1 = set(input().split())\n",
    "b = int(input())\n",
    "b1 = set(input().split())\n",
    "print (len(n1.intersection(b1)))\n"
   ]
  },
  {
   "cell_type": "code",
   "execution_count": 5,
   "metadata": {},
   "outputs": [
    {
     "name": "stdout",
     "output_type": "stream",
     "text": [
      "9\n",
      "1 2 3 4 5 6 7 8 9\n",
      "9\n",
      "10 1 2 3 11 21 55 6 8\n",
      "4\n"
     ]
    }
   ],
   "source": [
    "# Set.difference() Operation\n",
    "n = int(input())\n",
    "n1 = set(input().split())\n",
    "b = int(input())\n",
    "b1 = set(input().split())\n",
    "print (len(n1.difference(b1)))\n"
   ]
  },
  {
   "cell_type": "code",
   "execution_count": 6,
   "metadata": {},
   "outputs": [
    {
     "name": "stdout",
     "output_type": "stream",
     "text": [
      "9\n",
      "1 2 3 4 5 6 7 8 9\n",
      "9\n",
      "10 1 2 3 11 21 55 6 8\n",
      "8\n"
     ]
    }
   ],
   "source": [
    "# Set.symmetric_difference() Operation\n",
    "n = int(input())\n",
    "n1 = set(input().split())\n",
    "b = int(input())\n",
    "b1 = set(input().split())\n",
    "print (len(n1.symmetric_difference(b1)))\n"
   ]
  },
  {
   "cell_type": "code",
   "execution_count": 1,
   "metadata": {},
   "outputs": [
    {
     "name": "stdout",
     "output_type": "stream",
     "text": [
      "7\n",
      "UK\n",
      "China\n",
      "USA\n",
      "France\n",
      "New Zealand\n",
      "UK\n",
      "France\n",
      "5\n"
     ]
    }
   ],
   "source": [
    "# Set.add()\n",
    "N=int(input())\n",
    "a=[input() for i in range(N)]\n",
    "s=set(a)\n",
    "print(len(s))\n",
    "\n"
   ]
  },
  {
   "cell_type": "code",
   "execution_count": 12,
   "metadata": {},
   "outputs": [
    {
     "name": "stdout",
     "output_type": "stream",
     "text": [
      "9\n",
      "1 2 3 4 5 6 7 8 9\n",
      "10\n",
      "pop\n",
      "remove 9\n",
      "discard 9\n",
      "discard 8\n",
      "remove 7\n",
      "pop\n",
      "discard 6\n",
      "remove 5\n",
      "pop\n",
      "discard 5\n",
      "4\n"
     ]
    }
   ],
   "source": [
    "# set.discard,remove and pop\n",
    "n=int(input())\n",
    "s=set(map(int,input().split()))\n",
    "a=int(input())\n",
    "for i in range(a):\n",
    "    b=input().split()\n",
    "    if b[0] == \"pop\":\n",
    "        s.pop()\n",
    "    elif b[0] == \"remove\":\n",
    "        s.remove(int(b[1]))\n",
    "    elif b[0] == \"discard\":\n",
    "        s.discard(int(b[1]))\n",
    "print (sum(s))"
   ]
  },
  {
   "cell_type": "code",
   "execution_count": 1,
   "metadata": {},
   "outputs": [
    {
     "name": "stdout",
     "output_type": "stream",
     "text": [
      "3\n",
      "5\n",
      "1 2 3 5 6\n",
      "9\n",
      "9 8 5 6 3 2 1 4 7\n",
      "True\n",
      "1\n",
      "2\n",
      "5\n",
      "3 6 5 4 1\n",
      "False\n",
      "7\n",
      "1 2 3 5 6 8 9\n",
      "3\n",
      "9 8 2\n",
      "False\n"
     ]
    }
   ],
   "source": [
    "# Check Subset\n",
    "for i in range(int(input())):\n",
    "    n=input()\n",
    "    n1=set(input().split())\n",
    "    m=input()\n",
    "    m1=set(input().split())\n",
    "#for i in range(input()):\n",
    "    print(n1.issubset(m1))"
   ]
  },
  {
   "cell_type": "code",
   "execution_count": 16,
   "metadata": {},
   "outputs": [
    {
     "name": "stdout",
     "output_type": "stream",
     "text": [
      "1 2 3 4 5 6 7 8 9 10 11 12 23 45 84 78\n",
      "2\n",
      "1 2 3 4 5\n",
      "True\n",
      "100 11 12\n",
      "False\n"
     ]
    }
   ],
   "source": [
    "# Check strict Superset\n",
    "A = set(input().split())\n",
    "n=int(input())\n",
    "for i in range(n):\n",
    "    A1=set(input().split())\n",
    "    if len(A1.difference(A))==0:\n",
    "        print(\"True\")\n",
    "    else:\n",
    "        print(\"False\")\n",
    "        break"
   ]
  },
  {
   "cell_type": "code",
   "execution_count": 9,
   "metadata": {},
   "outputs": [
    {
     "name": "stdout",
     "output_type": "stream",
     "text": [
      "5\n",
      "1 2 3 6 5 4 4 2 5 3 6 1 6 5 3 2 4 1 2 5 1 4 3 6 8 4 3 1 5 6 2 \n",
      "8\n"
     ]
    }
   ],
   "source": [
    "# Captains room\n",
    "K=int(input())\n",
    "a=list(map(int,input().split()))\n",
    "s=set(a)\n",
    "Sum = (sum(s) * K - sum(a))\n",
    "print(Sum//(K-1))"
   ]
  },
  {
   "cell_type": "code",
   "execution_count": null,
   "metadata": {},
   "outputs": [],
   "source": []
  }
 ],
 "metadata": {
  "kernelspec": {
   "display_name": "Python 3",
   "language": "python",
   "name": "python3"
  },
  "language_info": {
   "codemirror_mode": {
    "name": "ipython",
    "version": 3
   },
   "file_extension": ".py",
   "mimetype": "text/x-python",
   "name": "python",
   "nbconvert_exporter": "python",
   "pygments_lexer": "ipython3",
   "version": "3.8.5"
  }
 },
 "nbformat": 4,
 "nbformat_minor": 4
}
