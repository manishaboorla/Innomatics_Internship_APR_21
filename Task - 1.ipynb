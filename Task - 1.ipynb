{
 "cells": [
  {
   "cell_type": "code",
   "execution_count": 1,
   "metadata": {},
   "outputs": [
    {
     "name": "stdout",
     "output_type": "stream",
     "text": [
      "Hello, World\n"
     ]
    }
   ],
   "source": [
    "# Question1\n",
    "print(\"Hello, World\")"
   ]
  },
  {
   "cell_type": "code",
   "execution_count": 5,
   "metadata": {},
   "outputs": [
    {
     "name": "stdout",
     "output_type": "stream",
     "text": [
      "21\n",
      "Not Weird\n"
     ]
    }
   ],
   "source": [
    "# Question2\n",
    "n=int(input())\n",
    "if n%2==0 and n in range(2,6) or n>20:\n",
    "    print(\"Not Weird\")\n",
    "elif n in range(6,21):\n",
    "     print(\"Weird\")\n",
    "else:\n",
    "    print(\"Weird\")"
   ]
  },
  {
   "cell_type": "code",
   "execution_count": 13,
   "metadata": {},
   "outputs": [
    {
     "name": "stdout",
     "output_type": "stream",
     "text": [
      "The sum is: 15\n",
      "The sub is: -3\n",
      "The mul is: 54\n"
     ]
    }
   ],
   "source": [
    "# Question3\n",
    "a=6\n",
    "b=9\n",
    "sum= a + b\n",
    "print(\"The sum is:\", sum)\n",
    "min= a - b\n",
    "print(\"The sub is:\", min)\n",
    "mul= a * b\n",
    "print(\"The mul is:\", mul)\n"
   ]
  },
  {
   "cell_type": "code",
   "execution_count": 14,
   "metadata": {},
   "outputs": [
    {
     "name": "stdout",
     "output_type": "stream",
     "text": [
      "14\n",
      "15\n",
      "0\n",
      "0.9333333333333333\n"
     ]
    }
   ],
   "source": [
    "# Question4\n",
    "a=int(input())\n",
    "b=int(input())\n",
    "print(a//b)\n",
    "print(a/b)"
   ]
  },
  {
   "cell_type": "code",
   "execution_count": 17,
   "metadata": {},
   "outputs": [
    {
     "name": "stdout",
     "output_type": "stream",
     "text": [
      "169\n",
      "196\n",
      "225\n"
     ]
    }
   ],
   "source": [
    "# Question5\n",
    "for n in range(13,16):\n",
    "    while n<16:\n",
    "        print(n**2)\n",
    "        break"
   ]
  },
  {
   "cell_type": "code",
   "execution_count": 48,
   "metadata": {},
   "outputs": [
    {
     "name": "stdout",
     "output_type": "stream",
     "text": [
      "10\n",
      "34567891011"
     ]
    }
   ],
   "source": [
    "# Question7\n",
    "n=int(input())\n",
    "for i in range(3, n+2):\n",
    "    print(i,end=\"\")"
   ]
  },
  {
   "cell_type": "code",
   "execution_count": null,
   "metadata": {},
   "outputs": [],
   "source": []
  }
 ],
 "metadata": {
  "kernelspec": {
   "display_name": "Python 3",
   "language": "python",
   "name": "python3"
  },
  "language_info": {
   "codemirror_mode": {
    "name": "ipython",
    "version": 3
   },
   "file_extension": ".py",
   "mimetype": "text/x-python",
   "name": "python",
   "nbconvert_exporter": "python",
   "pygments_lexer": "ipython3",
   "version": "3.8.5"
  }
 },
 "nbformat": 4,
 "nbformat_minor": 4
}
