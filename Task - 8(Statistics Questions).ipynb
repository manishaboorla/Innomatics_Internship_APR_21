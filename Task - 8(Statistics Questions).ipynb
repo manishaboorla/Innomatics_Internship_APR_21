{
 "cells": [
  {
   "cell_type": "code",
   "execution_count": 19,
   "metadata": {},
   "outputs": [
    {
     "name": "stdout",
     "output_type": "stream",
     "text": [
      "1.09 1\n",
      "0.696\n"
     ]
    }
   ],
   "source": [
    "#Binomial Distribution I\n",
    "\n",
    "def factorial(n):\n",
    "    if n == 0:\n",
    "        return 1\n",
    "    else:\n",
    "        return n*fact(n-1)\n",
    "\n",
    "def combination(n, x):\n",
    "    return factorial(n) / (factorial(x) * factorial(n-x))\n",
    "\n",
    "def b(x, n, p):\n",
    "    return combination(n, x) * p**x * (1-p)**(n-x)\n",
    "\n",
    "l, r = list(map(float, input().split(\" \")))\n",
    "odds = l / r\n",
    "print(round(sum([b(i, 6, odds / (1 + odds)) for i in range(3, 7)]), 3))"
   ]
  },
  {
   "cell_type": "code",
   "execution_count": 20,
   "metadata": {},
   "outputs": [
    {
     "name": "stdout",
     "output_type": "stream",
     "text": [
      "12 10\n",
      "0.891\n",
      "0.342\n"
     ]
    }
   ],
   "source": [
    "#Binomial Distribution II\n",
    "\n",
    "def factorial(n):\n",
    "    if n == 0:\n",
    "        return 1\n",
    "    else:\n",
    "        return n*fact(n-1)\n",
    "\n",
    "def combination(n, x):\n",
    "    return factorial(n) / (factorial(x) * factorial(n-x))\n",
    "\n",
    "def b(x, n, p):\n",
    "    return combination(n, x) * p**x * (1-p)**(n-x)\n",
    "\n",
    "p, n = list(map(int, input().split(\" \")))\n",
    "print(round(sum([b(i, n, p/100) for i in range(3)]), 3))\n",
    "print(round(sum([b(i, n, p/100) for i in range(2, n+1)]), 3))"
   ]
  },
  {
   "cell_type": "code",
   "execution_count": 24,
   "metadata": {},
   "outputs": [
    {
     "name": "stdout",
     "output_type": "stream",
     "text": [
      "0.401\n",
      "0.341\n"
     ]
    }
   ],
   "source": [
    "#Normal Distribution I\n",
    "\n",
    "import math\n",
    "\n",
    "mean, std = 20, 2 #all inpits are hardcoded\n",
    "#The erf() function can be used to compute traditional statistical functions \n",
    "#such as the cumulative standard normal distribution\n",
    "cdf = lambda x: 0.5 * (1 + math.erf((x - mean) / (std * (2 ** 0.5))))\n",
    "\n",
    "# for less than 19.5\n",
    "print('{:.3f}'.format(cdf(19.5)))\n",
    "# for between 20 and 22\n",
    "print('{:.3f}'.format(cdf(22) - cdf(20)))"
   ]
  },
  {
   "cell_type": "code",
   "execution_count": 25,
   "metadata": {},
   "outputs": [
    {
     "name": "stdout",
     "output_type": "stream",
     "text": [
      "15.87\n",
      "84.13\n",
      "15.87\n"
     ]
    }
   ],
   "source": [
    "#Normal Distribution II\n",
    "\n",
    "import math\n",
    "\n",
    "mean, std = 70, 10\n",
    "cdf = lambda x: 0.5 * (1 + math.erf((x - mean) / (std * (2 ** 0.5))))\n",
    "\n",
    "print(round((1-cdf(80))*100,2))\n",
    "print(round((1-cdf(60))*100,2))\n",
    "print(round((cdf(60))*100,2))"
   ]
  },
  {
   "cell_type": "code",
   "execution_count": 46,
   "metadata": {},
   "outputs": [
    {
     "name": "stdout",
     "output_type": "stream",
     "text": [
      "0.0098\n"
     ]
    }
   ],
   "source": [
    "#The Central Limit Theorem I\n",
    "\n",
    "import math\n",
    "\n",
    "x, n, mean, std = 9800, 49, 205, 15\n",
    "\n",
    "mean_sum = n * mean\n",
    "std_sum = math.sqrt(n) * std\n",
    "cdf = 0.5*(1 + math.erf(((x - mean_sum)/std_sum)/(math.sqrt(2))))\n",
    "\n",
    "print(round(cdf, 4))"
   ]
  },
  {
   "cell_type": "code",
   "execution_count": 41,
   "metadata": {},
   "outputs": [
    {
     "name": "stdout",
     "output_type": "stream",
     "text": [
      "0.6915\n"
     ]
    }
   ],
   "source": [
    "#The Central Limit Theorem II\n",
    "\n",
    "import math\n",
    "\n",
    "x, n, mean, std = 250, 100, 2.4, 2.0\n",
    "\n",
    "std_sum = math.sqrt(n) * std\n",
    "cdf = 0.5*(1 + math.erf((x - mean * n) / (std_sum * math.sqrt(2))))\n",
    "\n",
    "print(round(cdf,4))"
   ]
  },
  {
   "cell_type": "code",
   "execution_count": 47,
   "metadata": {},
   "outputs": [
    {
     "name": "stdout",
     "output_type": "stream",
     "text": [
      "484.32\n",
      "515.68\n"
     ]
    }
   ],
   "source": [
    "#The Central Limit Theorem III\n",
    "\n",
    "n, mean, std, interval, z = 100, 500, 80, 0.95, 1.96\n",
    "\n",
    "print(round(mean - (std / (n**0.5))* z, 2))\n",
    "print(round(mean + (std / (n**0.5))* z, 2))"
   ]
  },
  {
   "cell_type": "code",
   "execution_count": 48,
   "metadata": {},
   "outputs": [
    {
     "name": "stdout",
     "output_type": "stream",
     "text": [
      "10\n",
      "10 9.8 8 7.8 7.7 7 6 5 4 2\n",
      "200 44 32 24 22 17 15 12 8 4\n",
      "0.612\n"
     ]
    }
   ],
   "source": [
    "#The Central Limit Theorem III\n",
    "\n",
    "n = int(input())\n",
    "x = list(map(float,input().strip().split()))\n",
    "y = list(map(float,input().strip().split()))\n",
    "\n",
    "mean_x = sum(x) / n\n",
    "mean_y = sum(y) / n\n",
    "\n",
    "std_x = (sum([(i - mean_x)**2 for i in x]) / n)**0.5\n",
    "std_y = (sum([(i - mean_y)**2 for i in y]) / n)**0.5\n",
    "\n",
    "\n",
    "cov = sum([(x[i] - mean_x) * (y[i] - mean_y) for i in range(n)])\n",
    "\n",
    "corr_coef = cov/(n * std_x * std_y)\n",
    "\n",
    "print(round(corr_coef,3))"
   ]
  },
  {
   "cell_type": "code",
   "execution_count": 57,
   "metadata": {},
   "outputs": [
    {
     "name": "stdout",
     "output_type": "stream",
     "text": [
      "78.288\n"
     ]
    }
   ],
   "source": [
    "#Least Square Regression Line\n",
    "\n",
    "from sklearn.linear_model import LinearRegression\n",
    "import numpy as np\n",
    "\n",
    "xl = [95, 85, 80, 70, 60]\n",
    "x = np.asarray(xl).reshape(-1, 1)\n",
    "y = [85, 95, 70, 65, 70]\n",
    "lr = LinearRegression()\n",
    "lr.fit(x, y)\n",
    "a = lr.intercept_\n",
    "b = lr.coef_\n",
    "print('%0.3f' % (a + 80.0 * b[0]))"
   ]
  },
  {
   "cell_type": "code",
   "execution_count": 58,
   "metadata": {},
   "outputs": [
    {
     "name": "stdout",
     "output_type": "stream",
     "text": [
      "2 7\n",
      "0.18 0.89 109.85\n",
      "1.0 0.26 155.72\n",
      "0.92 0.11 137.66\n",
      "0.07 0.37 76.17\n",
      "0.85 0.16 139.75\n",
      "0.99 0.41 162.6\n",
      "0.87 0.47 151.77\n",
      "4\n",
      "0.49 0.18\n",
      "105.21455835106943\n",
      "0.57 0.83\n",
      "142.67095130729922\n",
      "0.56 0.64\n",
      "132.93605469124694\n",
      "0.76 0.18\n",
      "129.70175404502453\n"
     ]
    }
   ],
   "source": [
    "#Multiple Linear Regression\n",
    "\n",
    "from sklearn.linear_model import LinearRegression\n",
    "\n",
    "first = list(map(int, str.split(input(), \" \")))\n",
    "m, n = first[0], first[1]\n",
    "\n",
    "data = [list(float(x) for x in input().split()) for i in range(n)]\n",
    "\n",
    "x = [[item[i] for i in range(m)] for item in data]\n",
    "y = [item[-1] for item in data]\n",
    "lr = LinearRegression()\n",
    "lr.fit(x, y)\n",
    "a = lr.intercept_\n",
    "b = lr.coef_\n",
    "\n",
    "for i in range(int(input())):\n",
    "    data = list(map(float, input().split()))\n",
    "    ans = [b[j]*data[j] for j in range(m)]\n",
    "    print(a+sum(ans))"
   ]
  },
  {
   "cell_type": "code",
   "execution_count": null,
   "metadata": {},
   "outputs": [],
   "source": []
  }
 ],
 "metadata": {
  "kernelspec": {
   "display_name": "Python 3",
   "language": "python",
   "name": "python3"
  },
  "language_info": {
   "codemirror_mode": {
    "name": "ipython",
    "version": 3
   },
   "file_extension": ".py",
   "mimetype": "text/x-python",
   "name": "python",
   "nbconvert_exporter": "python",
   "pygments_lexer": "ipython3",
   "version": "3.8.5"
  }
 },
 "nbformat": 4,
 "nbformat_minor": 4
}
