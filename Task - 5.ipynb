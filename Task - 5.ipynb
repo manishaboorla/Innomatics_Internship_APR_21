{
 "cells": [
  {
   "cell_type": "code",
   "execution_count": 2,
   "metadata": {},
   "outputs": [
    {
     "name": "stdout",
     "output_type": "stream",
     "text": [
      "100,000,000.000\n",
      "100\n",
      "000\n",
      "000\n",
      "000\n"
     ]
    }
   ],
   "source": [
    "# Re.split\n",
    "s=input()\n",
    "regex_pattern = r\"[,.]\"\t# Do not delete 'r'.\n",
    "\n",
    "import re\n",
    "print(\"\\n\".join(re.split(regex_pattern, s)))"
   ]
  },
  {
   "cell_type": "code",
   "execution_count": 1,
   "metadata": {},
   "outputs": [
    {
     "name": "stdout",
     "output_type": "stream",
     "text": [
      "..12345678910111213141516171820212223\n",
      "1\n"
     ]
    }
   ],
   "source": [
    "# Group,Groups,Groupdict\n",
    "S=input()# Enter your code here. Read input from STDIN. Print output to STDOUT\n",
    "import re\n",
    "m=re.match(r\"([A-Za-z0-9])\\1+\",S)\n",
    "if m:\n",
    "    print(m[0])\n",
    "else:\n",
    "    print(1)\n"
   ]
  },
  {
   "cell_type": "code",
   "execution_count": 10,
   "metadata": {},
   "outputs": [
    {
     "name": "stdout",
     "output_type": "stream",
     "text": [
      "rabcdeefgyYhFjkIoomnpOeorteeeeet\n",
      "['ee', 'Ioo', 'Oeo', 'eeeee']\n"
     ]
    }
   ],
   "source": [
    "import re\n",
    "S=input()\n",
    "vowels= \"AEIOU\"\n",
    "cons= \"QWRTYPSDFGHJKLZXCVBNM\"\n",
    "m = re.findall(r\"(?<=[%s])([%s]{2,})[%s]\" % (cons, vowels, cons), S,flags=re.IGNORECASE)\n",
    "#print(\"\\n\".join(m or ['-1']))\n",
    "#print(m)\n",
    "if m:\n",
    "    print(m)\n",
    "else:\n",
    "    print(-1)"
   ]
  },
  {
   "cell_type": "code",
   "execution_count": 13,
   "metadata": {},
   "outputs": [
    {
     "name": "stdout",
     "output_type": "stream",
     "text": [
      "aaadaa\n",
      "aa\n",
      "(0, 1)\n",
      "(1, 2)\n",
      "(4, 5)\n"
     ]
    }
   ],
   "source": [
    "# re.start and re.end\n",
    "import re\n",
    "S = input()\n",
    "k = input()\n",
    "l = 'No'\n",
    "for m in re.finditer(r'(?=('+k+'))',S):\n",
    "    l = 'Yes'\n",
    "    print (\"({0}, {1})\".format(m.start(1),m.end(1)-1))\n",
    "if l == 'No':\n",
    "    print (-1, -1)"
   ]
  },
  {
   "cell_type": "code",
   "execution_count": 15,
   "metadata": {},
   "outputs": [
    {
     "name": "stdout",
     "output_type": "stream",
     "text": [
      "11\n",
      "a = 1;\n",
      "a = 1;\n",
      "b = input();\n",
      "b = input();\n",
      "if a + b > 0 && a - b < 0:\n",
      "if a + b > 0 and a - b < 0:\n",
      "    start()\n",
      "    start()\n",
      "elif a*b > 10 || a/b < 1:\n",
      "elif a*b > 10 or a/b < 1:\n",
      "    stop()\n",
      "    stop()\n",
      "print set(list(a)) | set(list(b))\n",
      "print set(list(a)) | set(list(b))\n",
      "#Note do not change &&& or ||| or & or\n",
      "#Note do not change &&& or ||| or & or\n",
      "|\n",
      "|\n",
      "#Only change those '&&' which have space on both sides.\n",
      "#Only change those '&&' which have space on both sides.\n",
      "#Only change those '|| which have space on both sides.\n",
      "#Only change those '|| which have space on both sides.\n"
     ]
    }
   ],
   "source": [
    "# regex substitution\n",
    "import re\n",
    "N = int(input())\n",
    "\n",
    "for i in range(0,N):\n",
    "   text = input()\n",
    "   text = re.sub(r\"\\ \\&\\&\\ \",\" and \",text)\n",
    "   text = re.sub(r\"\\ \\|\\|\\ \",\" or \",text)\n",
    "   print(text)"
   ]
  },
  {
   "cell_type": "code",
   "execution_count": 2,
   "metadata": {},
   "outputs": [
    {
     "name": "stdout",
     "output_type": "stream",
     "text": [
      "CDXXI\n",
      "True\n"
     ]
    }
   ],
   "source": [
    "# validating roman numerals\n",
    "\n",
    "n=input()\n",
    "regex_pattern = r\"M{0,3}(CM|CD|D?C{0,3})(XC|XL|L?X{0,3})(IX|IV|V?I{0,3})$\"\t# Do not delete 'r'.\n",
    "\n",
    "import re\n",
    "print(str(bool(re.match(regex_pattern, n))))"
   ]
  },
  {
   "cell_type": "code",
   "execution_count": 14,
   "metadata": {},
   "outputs": [
    {
     "name": "stdout",
     "output_type": "stream",
     "text": [
      "2\n",
      "9587456281\n",
      "yes\n",
      "1252478965\n",
      "no\n"
     ]
    }
   ],
   "source": [
    "# Validating phone numbers\n",
    "import re\n",
    "N=int(input())\n",
    "for i in range(N):\n",
    "    n=input()\n",
    "    if re.match(r'[789][0-9]{9}$', n):\n",
    "        print(\"yes\")\n",
    "    else:\n",
    "        print(\"no\")\n"
   ]
  },
  {
   "cell_type": "code",
   "execution_count": 1,
   "metadata": {},
   "outputs": [
    {
     "name": "stdout",
     "output_type": "stream",
     "text": [
      "2\n",
      "DEXTER <dexter@hotmail.com>\n",
      "DEXTER <dexter@hotmail.com>\n",
      "VIRUS <virus!@variable.:p>\n"
     ]
    }
   ],
   "source": [
    "# validating and parsing email address\n",
    "import re\n",
    "\n",
    "n = int(input())\n",
    "for i in range(n):\n",
    "    name, email = input().split()\n",
    "    \n",
    "    if re.search(r'<[A-Za-z](\\w|-|\\.|_)+@[A-Za-z]+\\.[A-Za-z]{1,3}>', email):\n",
    "        print(\"{} {}\".format(name, email))"
   ]
  },
  {
   "cell_type": "code",
   "execution_count": 1,
   "metadata": {},
   "outputs": [
    {
     "name": "stdout",
     "output_type": "stream",
     "text": [
      "11\n",
      "#BED\n",
      "{\n",
      "color: #FfFdF8; background-\n",
      "#FfFdF8\n",
      "color:#aef;\n",
      "font-size: 123px;\n",
      "background: -webkit-linear-gradient(top, #f9f9f9, #fff);\n",
      "#f9f9f9\n",
      "#fff\n",
      "}\n",
      "#Cab\n",
      "{\n",
      "background-color: #ABC;\n",
      "#ABC\n",
      "    border: 2px dashed #fff;\n",
      "#fff\n"
     ]
    }
   ],
   "source": [
    "import re\n",
    "\n",
    "n = int(input())\n",
    "inside = False\n",
    "for i in range(n):\n",
    "    line = input()\n",
    "    \n",
    "    for m in line.split(' '):\n",
    "        if m == \"{\":\n",
    "            inside = True\n",
    "            continue\n",
    "        elif m == \"}\":\n",
    "            inside = False\n",
    "            continue\n",
    "        elif inside:\n",
    "            found = re.match(r'\\#[0-9a-fA-F]{3,6}', m)\n",
    "            if found:\n",
    "                print(found.group(0))"
   ]
  },
  {
   "cell_type": "code",
   "execution_count": 2,
   "metadata": {},
   "outputs": [
    {
     "name": "stdout",
     "output_type": "stream",
     "text": [
      "7 3\n",
      "Tsi\n",
      "h%x\n",
      "i #\n",
      "sM \n",
      "$a \n",
      "#t%\n",
      "ir!\n",
      "This is Matrix#  %!\n"
     ]
    }
   ],
   "source": [
    "# matrix script\n",
    "\n",
    "import math\n",
    "import os\n",
    "import random\n",
    "import re\n",
    "\n",
    "first_multiple_input = input().rstrip().split()\n",
    "\n",
    "n = int(first_multiple_input[0])\n",
    "\n",
    "m = int(first_multiple_input[1])\n",
    "\n",
    "matrix = []\n",
    "\n",
    "for _ in range(n):\n",
    "    matrix_item = input()\n",
    "    matrix.append(matrix_item)\n",
    "    \n",
    "ans = \"\"\n",
    "for i in range(m):\n",
    "    for li in matrix:\n",
    "        ans+=str(li[i])\n",
    "\n",
    "ans = re.sub(r'([A-Za-z0-9])[!@#$%&\\s]+(?=[A-Za-z0-9])',r'\\1 ', ans)\n",
    "print(ans)"
   ]
  },
  {
   "cell_type": "code",
   "execution_count": 1,
   "metadata": {},
   "outputs": [
    {
     "name": "stdout",
     "output_type": "stream",
     "text": [
      "110000\n",
      "False\n"
     ]
    }
   ],
   "source": [
    "# validating postal code\n",
    "\n",
    "\n",
    "regex_integer_in_range = r\"^[100000-999999]{6}$\"   # Do not delete 'r'.\n",
    "regex_alternating_repetitive_digit_pair = r\"(\\d)(?=(\\d)\\1)\" # Do not delete 'r'.\n",
    "\n",
    "\n",
    "import re\n",
    "P = input()\n",
    "\n",
    "print (bool(re.match(regex_integer_in_range, P)) \n",
    "and len(re.findall(regex_alternating_repetitive_digit_pair, P)) < 2)"
   ]
  },
  {
   "cell_type": "code",
   "execution_count": 2,
   "metadata": {},
   "outputs": [
    {
     "name": "stdout",
     "output_type": "stream",
     "text": [
      "6\n",
      "4123456789123456\n",
      "Valid\n",
      "5123-4567-8912-3456\n",
      "Valid\n",
      "61234-567-8912-3456\n",
      "Invalid\n",
      "4123356789123456\n",
      "Valid\n",
      "5133-3367-8912-3456\n",
      "Invalid\n",
      "5123 - 3567 - 8912 - 3456\n",
      "Invalid\n"
     ]
    }
   ],
   "source": [
    "# validating credit card\n",
    "import re\n",
    "for i in range(int(input())):\n",
    "    a = input()\n",
    "    if re.match(r'^[456]{1}\\d{3}\\-?\\d{4}\\-?\\d{4}\\-?\\d{4}$', a):\n",
    "        b = re.sub('-', '', a)\n",
    "        c = re.findall(r'((\\d)\\2{3,})', b)\n",
    "        if(len(c) == 0):\n",
    "            print('Valid')  \n",
    "        else:\n",
    "            print(\"Invalid\")\n",
    "    else:\n",
    "        print('Invalid')"
   ]
  },
  {
   "cell_type": "code",
   "execution_count": 3,
   "metadata": {},
   "outputs": [
    {
     "name": "stdout",
     "output_type": "stream",
     "text": [
      "2\n",
      "B1CD102354\n",
      "Invalid\n",
      "B1CDEF2354\n",
      "Valid\n"
     ]
    }
   ],
   "source": [
    "# Validating UID\n",
    "\n",
    "import re\n",
    "for _ in range(int(input())):\n",
    "    line = input()\n",
    "    if all([re.match(r'^(\\w{10})*$', line),\n",
    "            re.match(r'(\\w*[A-Z]){2}', line),\n",
    "            re.match(r'(\\w*[0-9]){3}', line),\n",
    "            not re.match(r'\\w*(\\w)\\w*\\1', line)]):\n",
    "        print('Valid')\n",
    "    else:\n",
    "        print('Invalid')"
   ]
  },
  {
   "cell_type": "code",
   "execution_count": 4,
   "metadata": {},
   "outputs": [
    {
     "name": "stdout",
     "output_type": "stream",
     "text": [
      "9\n",
      "<head>\n",
      "<title>HTML</title>\n",
      "</head>\n",
      "<object type=\"application/x-flash\"\n",
      "data=\"your-file.swf\"\n",
      "width=\"0\" height=\"0\">\n",
      "  <!-- <param name=\"movie\" value=\"your-file.swf\" /> -->\n",
      "<param name=\"quality\" value=\"high\"/>\n",
      "</object>\n",
      "head\n",
      "title\n",
      "object\n",
      "-> type > application/x-flash\n",
      "-> data > your-file.swf\n",
      "-> width > 0\n",
      "-> height > 0\n",
      "param\n",
      "-> name > quality\n",
      "-> value > high\n"
     ]
    }
   ],
   "source": [
    "# Detect HTML\n",
    "\n",
    "\n",
    "import re\n",
    "n    = int(input())\n",
    "code = \" \".join([input() for _ in range(n)])\n",
    "code = re.sub(r\"<!--.*?-->\", \" \", code) \n",
    "\n",
    "taglis = re.findall(r\"<[a-zA-Z0-9]+.*?>\",code)\n",
    "for tag in taglis:\n",
    "    print(re.search(r\"[a-zA-Z0-9]+\",tag).group())\n",
    "    attributes = re.findall(r'(\\S+)=\\\"([^\"]*)\\\"',tag)\n",
    "    for name,value in attributes:\n",
    "        print(\"->\", name, \">\", value)"
   ]
  },
  {
   "cell_type": "code",
   "execution_count": null,
   "metadata": {},
   "outputs": [],
   "source": []
  }
 ],
 "metadata": {
  "kernelspec": {
   "display_name": "Python 3",
   "language": "python",
   "name": "python3"
  },
  "language_info": {
   "codemirror_mode": {
    "name": "ipython",
    "version": 3
   },
   "file_extension": ".py",
   "mimetype": "text/x-python",
   "name": "python",
   "nbconvert_exporter": "python",
   "pygments_lexer": "ipython3",
   "version": "3.8.5"
  }
 },
 "nbformat": 4,
 "nbformat_minor": 4
}
